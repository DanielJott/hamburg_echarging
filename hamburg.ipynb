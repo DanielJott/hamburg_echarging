{
 "cells": [
  {
   "cell_type": "code",
   "execution_count": 2,
   "metadata": {},
   "outputs": [],
   "source": [
    "# conda install anaconda::openpyxl\n",
    "\n",
    "import numpy as np\n",
    "import geopandas as gpd\n",
    "import pandas as pd\n",
    "import matplotlib.pyplot as plt"
   ]
  },
  {
   "cell_type": "code",
   "execution_count": 4,
   "metadata": {},
   "outputs": [],
   "source": [
    "directory = \"C:/Users/Daniel.DESKTOP-2H2HP2R/repos/hamburg_echarging/\""
   ]
  },
  {
   "cell_type": "code",
   "execution_count": 3,
   "metadata": {},
   "outputs": [],
   "source": [
    "# Funktion zur Uwandlung von xlsx in csv\n",
    "def convert_xls_to_csv(input_file, output_file, sheet_name=0):\n",
    "    \n",
    "    try:\n",
    "        data = pd.read_excel(input_file, sheet_name=sheet_name)\n",
    "        data.to_csv(output_file, index=False)\n",
    "        print(f\"Erfolgreich konvertiert: {input_file} -> {output_file}\")\n",
    "    except Exception as e:\n",
    "        print(f\"Fehler: {e}\")"
   ]
  },
  {
   "cell_type": "code",
   "execution_count": 6,
   "metadata": {},
   "outputs": [
    {
     "name": "stdout",
     "output_type": "stream",
     "text": [
      "Erfolgreich konvertiert: dtv-dtvw-2004-2023-download-data.xlsx -> dtv-dtvw-2004-2023-download-data.csv\n"
     ]
    }
   ],
   "source": [
    "# Dateien\n",
    "input_file = \"dtv-dtvw-2004-2023-download-data.xlsx\"\n",
    "output_file = \"dtv-dtvw-2004-2023-download-data.csv\"\n",
    "\n",
    "# Ausführen der Funktion\n",
    "convert_xls_to_csv(input_file, output_file)"
   ]
  },
  {
   "cell_type": "code",
   "execution_count": 18,
   "metadata": {},
   "outputs": [
    {
     "name": "stderr",
     "output_type": "stream",
     "text": [
      "C:\\Users\\Daniel.DESKTOP-2H2HP2R\\AppData\\Local\\Temp\\ipykernel_25124\\3649124898.py:2: DtypeWarning: Columns (29,32) have mixed types. Specify dtype option on import or set low_memory=False.\n",
      "  ladesaeulenregister = pd.read_csv(directory +'Ladesaeulenregister_01122024.csv', header = 0, encoding= 'unicode_escape', delimiter= ';')\n"
     ]
    }
   ],
   "source": [
    "# Einladen des deutschlandweiten Ladesäulenregisters und der Hamburger Verkehrsstärke\n",
    "ladesaeulenregister = pd.read_csv(directory +'Ladesaeulenregister_01122024.csv', header = 0, encoding= 'unicode_escape', delimiter= ';')\n",
    "verkehrsstaerke = pd.read_csv(directory +'dtv-dtvw-2004-2023-download-data.csv', header = 0, encoding= 'unicode_escape', delimiter= ',')\n"
   ]
  },
  {
   "cell_type": "code",
   "execution_count": 14,
   "metadata": {},
   "outputs": [
    {
     "name": "stdout",
     "output_type": "stream",
     "text": [
      "count    1428.000000\n",
      "mean     2924.792717\n",
      "std       901.720521\n",
      "min      1013.000000\n",
      "25%      2392.000000\n",
      "50%      2934.000000\n",
      "75%      3556.000000\n",
      "max      7621.000000\n",
      "Name: zaehlstelle, dtype: float64\n",
      "count                            80723\n",
      "unique                           10849\n",
      "top       EnBW mobility+ AG und Co.KG \n",
      "freq                              3972\n",
      "Name: Betreiber, dtype: object\n"
     ]
    }
   ],
   "source": [
    "# Informationenabfrag\n",
    "print(verkehrsstaerke['zaehlstelle'].describe())\n",
    "print(ladesaeulenregister['Betreiber'].describe())"
   ]
  },
  {
   "cell_type": "code",
   "execution_count": 18,
   "metadata": {},
   "outputs": [],
   "source": [
    "#Einladen Zaehlstellen CSV-Dateien\n",
    "bedarfszaehlstellen = pd.read_csv(directory +'verkehrszaehlstellen_csv/app_kfz_bedarfszaehlstellen_EPSG_25832.csv', header = 0, encoding= 'unicode_escape', delimiter= ';')\n",
    "dauerzaehlstellen = pd.read_csv(directory +'verkehrszaehlstellen_csv/app_kfz_dauerzaehlstellen_EPSG_25832.csv', header = 0, encoding= 'unicode_escape', delimiter= ';')\n",
    "jahreszaehlstellen = pd.read_csv(directory +'verkehrszaehlstellen_csv/app_kfz_jaehrliche_zaehlstellen_EPSG_25832.csv', header = 0, encoding= 'unicode_escape', delimiter= ';')\n",
    "pegel = pd.read_csv(directory +'verkehrszaehlstellen_csv/app_kfz_pegel_EPSG_25832.csv', header = 0, encoding= 'unicode_escape', delimiter= ';')"
   ]
  },
  {
   "cell_type": "code",
   "execution_count": 21,
   "metadata": {},
   "outputs": [
    {
     "name": "stdout",
     "output_type": "stream",
     "text": [
      "                                 ï»¿_fid  zaehlstelle  \\\n",
      "0     APP_KFZ_BEDARFSZAEHLSTELLEN_163670            2   \n",
      "1     APP_KFZ_BEDARFSZAEHLSTELLEN_163671            3   \n",
      "2     APP_KFZ_BEDARFSZAEHLSTELLEN_163672            5   \n",
      "3     APP_KFZ_BEDARFSZAEHLSTELLEN_163673            6   \n",
      "4     APP_KFZ_BEDARFSZAEHLSTELLEN_163674            7   \n",
      "...                                  ...          ...   \n",
      "2364                 APP_KFZ_PEGEL_37376         4088   \n",
      "2365                 APP_KFZ_PEGEL_37377         4092   \n",
      "2366                 APP_KFZ_PEGEL_37378         4094   \n",
      "2367                 APP_KFZ_PEGEL_37379         4098   \n",
      "2368                 APP_KFZ_PEGEL_37380         4102   \n",
      "\n",
      "                                   bezeichnung  knoten letzte_zaehlung  \\\n",
      "0        Osdorfer LandstraÃe / WindmÃ¼hlenweg     NaN      01.01.2023   \n",
      "1                Neue StraÃe / Harburger Ring     NaN      01.01.2023   \n",
      "2     Elise-Averdieck-StraÃe / Oben Borgfelde     NaN      01.01.2024   \n",
      "3          Oberhafenradweg / Brandshofer Deich     NaN      01.01.2024   \n",
      "4         Gert-SchwÃ¤mmle-Weg / DratelnstraÃe     NaN      01.01.2024   \n",
      "...                                        ...     ...             ...   \n",
      "2364        Am Sandtorkai W Bei St. Annen T406     NaN      04.01.2016   \n",
      "2365           Osakaallee N Ãberseeallee T407     NaN      08.10.2015   \n",
      "2366           Ãberseeallee O Osakaallee T408     NaN      08.10.2015   \n",
      "2367           Ãberseeallee W Osakaallee T409     NaN      08.10.2015   \n",
      "2368        Shanghaiallee N Ãberseeallee T410     NaN      24.09.2020   \n",
      "\n",
      "                                      geom coordinate_reference_system  \n",
      "0     POINT (557567.000000 5936156.000000)                  EPSG:25832  \n",
      "1     POINT (564964.000000 5923997.000000)                  EPSG:25832  \n",
      "2     POINT (568753.000000 5934575.000000)                  EPSG:25832  \n",
      "3     POINT (568203.000000 5932455.000000)                  EPSG:25832  \n",
      "4     POINT (566319.000000 5928286.000000)                  EPSG:25832  \n",
      "...                                    ...                         ...  \n",
      "2364  POINT (566091.000000 5933253.000000)                  EPSG:25832  \n",
      "2365  POINT (566240.000000 5932971.000000)                  EPSG:25832  \n",
      "2366  POINT (566274.000000 5932938.000000)                  EPSG:25832  \n",
      "2367  POINT (566219.000000 5932947.000000)                  EPSG:25832  \n",
      "2368  POINT (566517.000000 5932932.000000)                  EPSG:25832  \n",
      "\n",
      "[2369 rows x 7 columns]\n"
     ]
    }
   ],
   "source": [
    "#Zusammenführen der CSV-Dateien\n",
    "zaehlstellen_all = pd.concat([bedarfszaehlstellen, dauerzaehlstellen, jahreszaehlstellen, pegel], axis=0, ignore_index=True)\n",
    "print(zaehlstellen_all)\n",
    "zaehlstellen_all.to_csv(\"C:/Users/Daniel.DESKTOP-2H2HP2R/repos/hamburg_echarging/zaehlstellen_all.csv\", index = False)"
   ]
  },
  {
   "cell_type": "code",
   "execution_count": 24,
   "metadata": {},
   "outputs": [
    {
     "name": "stdout",
     "output_type": "stream",
     "text": [
      "      zaehlstelle  Ebene                                     Bezeichnung  \\\n",
      "0            1013    371                    Krohnstieg NO Garstedter Weg   \n",
      "1            1013    371                    Krohnstieg NO Garstedter Weg   \n",
      "2            1013    371                    Krohnstieg NO Garstedter Weg   \n",
      "3            1013    371                    Krohnstieg NO Garstedter Weg   \n",
      "4            1017    372                    Garstedter Weg SW Krohnstieg   \n",
      "...           ...    ...                                             ...   \n",
      "1423         7459    221                    Hammer StraÃe NW Grenzknick   \n",
      "1424         7621     96  EulenkrugstraÃe W Im Meienthun (Landesgrenze)   \n",
      "1425         7621     96  EulenkrugstraÃe W Im Meienthun (Landesgrenze)   \n",
      "1426         7621     96  EulenkrugstraÃe W Im Meienthun (Landesgrenze)   \n",
      "1427         7621     96  EulenkrugstraÃe W Im Meienthun (Landesgrenze)   \n",
      "\n",
      "                  Kategorie   2004   2005   2006   2007   2008   2009  ...  \\\n",
      "0             DTV (Kfz/24h)  51000  52000  52000  53000  52000  52000  ...   \n",
      "1            DTVw (Kfz/24h)  56000  56000  57000  58000  57000  56000  ...   \n",
      "2     SV-Anteil am DTVw (%)      6      6      6      6      6      6  ...   \n",
      "3        Baustelleneinfluss    NaN    NaN    NaN    NaN    NaN    NaN  ...   \n",
      "4             DTV (Kfz/24h)  12000  11000  11000  11000  11000  11000  ...   \n",
      "...                     ...    ...    ...    ...    ...    ...    ...  ...   \n",
      "1423     Baustelleneinfluss    NaN    NaN    NaN    NaN    NaN    NaN  ...   \n",
      "1424          DTV (Kfz/24h)  11000  11000  11000  11000  12000  11000  ...   \n",
      "1425         DTVw (Kfz/24h)  12000  12000  12000  12000  13000  12000  ...   \n",
      "1426  SV-Anteil am DTVw (%)      3      3      3      3      3      3  ...   \n",
      "1427     Baustelleneinfluss    NaN    NaN    NaN    NaN    NaN    NaN  ...   \n",
      "\n",
      "       2016   2017   2018   2019   2020   2021   2022   2023  \\\n",
      "0     51000  52000  51000  51000  42000  39000  47000  48000   \n",
      "1     56000  56000  56000  56000  46000  43000  50000  52000   \n",
      "2         5      4      5      5      5      6      5      5   \n",
      "3       NaN    NaN    NaN    NaN    NaN    NaN    NaN    NaN   \n",
      "4     13000  12000  12000  12000  10000   9000  10000   9000   \n",
      "...     ...    ...    ...    ...    ...    ...    ...    ...   \n",
      "1423    NaN    NaN    NaN    NaN    NaN    NaN    NaN    NaN   \n",
      "1424  12000  12000  12000  13000  10000  11000  11000    NaN   \n",
      "1425  13000  13000  13000  15000  11000  13000  12000    NaN   \n",
      "1426      3      3      2      2      2    NaN    NaN    NaN   \n",
      "1427    NaN    NaN    NaN    NaN    NaN    NaN    NaN    NaN   \n",
      "\n",
      "                                      geom coordinate_reference_system  \n",
      "0     POINT (564489.000000 5944555.000000)                  EPSG:25832  \n",
      "1     POINT (564489.000000 5944555.000000)                  EPSG:25832  \n",
      "2     POINT (564489.000000 5944555.000000)                  EPSG:25832  \n",
      "3     POINT (564489.000000 5944555.000000)                  EPSG:25832  \n",
      "4     POINT (564402.000000 5944460.000000)                  EPSG:25832  \n",
      "...                                    ...                         ...  \n",
      "1423  POINT (570825.000000 5935165.000000)                  EPSG:25832  \n",
      "1424  POINT (578726.000000 5944586.000000)                  EPSG:25832  \n",
      "1425  POINT (578726.000000 5944586.000000)                  EPSG:25832  \n",
      "1426  POINT (578726.000000 5944586.000000)                  EPSG:25832  \n",
      "1427  POINT (578726.000000 5944586.000000)                  EPSG:25832  \n",
      "\n",
      "[1428 rows x 26 columns]\n"
     ]
    }
   ],
   "source": [
    "# Zusammenfuehrung der georeferenzierten Zaehlstellen(zaehlstellen_all.csv) mit den Zaehlstaerken(dtv-dtvw-2004-2023-download-data.csv)\n",
    "georef_verkehr = verkehrsstaerke.merge(\n",
    "    zaehlstellen_all[['zaehlstelle', 'geom', 'coordinate_reference_system']],\n",
    "    on='zaehlstelle',\n",
    "    how='left'  # \"left\" sorgt dafür, dass alle Zeilen aus verkehrsstaerke erhalten bleiben\n",
    ")\n",
    "\n",
    "# Ergebnis speichern\n",
    "georef_verkehr.to_csv('georef_verkehr.csv', index=False)\n",
    "\n",
    "# Ergebnis anzeigen (optional)\n",
    "print(georef_verkehr)"
   ]
  },
  {
   "cell_type": "code",
   "execution_count": null,
   "metadata": {},
   "outputs": [
    {
     "ename": "TypeError",
     "evalue": "quotechar must be set if quoting enabled",
     "output_type": "error",
     "traceback": [
      "\u001b[1;31m---------------------------------------------------------------------------\u001b[0m",
      "\u001b[1;31mTypeError\u001b[0m                                 Traceback (most recent call last)",
      "Cell \u001b[1;32mIn[27], line 7\u001b[0m\n\u001b[0;32m      4\u001b[0m hamburg_tabelle \u001b[38;5;241m=\u001b[39m ladesaeulenregister[(ladesaeulenregister[\u001b[38;5;124m'\u001b[39m\u001b[38;5;124mBundesland\u001b[39m\u001b[38;5;124m'\u001b[39m] \u001b[38;5;241m==\u001b[39m \u001b[38;5;124m'\u001b[39m\u001b[38;5;124mHamburg\u001b[39m\u001b[38;5;124m'\u001b[39m) \u001b[38;5;241m&\u001b[39m (ladesaeulenregister[\u001b[38;5;124m'\u001b[39m\u001b[38;5;124mArt der Ladeeinrichtung\u001b[39m\u001b[38;5;124m'\u001b[39m] \u001b[38;5;241m==\u001b[39m \u001b[38;5;124m'\u001b[39m\u001b[38;5;124mSchnellladeeinrichtung\u001b[39m\u001b[38;5;124m'\u001b[39m)]\n\u001b[0;32m      6\u001b[0m \u001b[38;5;66;03m# Gefilterte Tabelle speichern\u001b[39;00m\n\u001b[1;32m----> 7\u001b[0m hamburg_tabelle\u001b[38;5;241m.\u001b[39mto_csv(\u001b[38;5;124m'\u001b[39m\u001b[38;5;124mhamburg_tabelle.csv\u001b[39m\u001b[38;5;124m'\u001b[39m, index\u001b[38;5;241m=\u001b[39m\u001b[38;5;28;01mFalse\u001b[39;00m, quotechar\u001b[38;5;241m=\u001b[39m\u001b[38;5;28;01mNone\u001b[39;00m)\n\u001b[0;32m      9\u001b[0m \u001b[38;5;66;03m# Gefilterte Tabelle anzeigen (optional)\u001b[39;00m\n\u001b[0;32m     10\u001b[0m \u001b[38;5;28mprint\u001b[39m(hamburg_tabelle)\n",
      "File \u001b[1;32mc:\\Users\\Daniel.DESKTOP-2H2HP2R\\miniforge3\\envs\\GIS1\\Lib\\site-packages\\pandas\\util\\_decorators.py:211\u001b[0m, in \u001b[0;36mdeprecate_kwarg.<locals>._deprecate_kwarg.<locals>.wrapper\u001b[1;34m(*args, **kwargs)\u001b[0m\n\u001b[0;32m    209\u001b[0m     \u001b[38;5;28;01melse\u001b[39;00m:\n\u001b[0;32m    210\u001b[0m         kwargs[new_arg_name] \u001b[38;5;241m=\u001b[39m new_arg_value\n\u001b[1;32m--> 211\u001b[0m \u001b[38;5;28;01mreturn\u001b[39;00m func(\u001b[38;5;241m*\u001b[39margs, \u001b[38;5;241m*\u001b[39m\u001b[38;5;241m*\u001b[39mkwargs)\n",
      "File \u001b[1;32mc:\\Users\\Daniel.DESKTOP-2H2HP2R\\miniforge3\\envs\\GIS1\\Lib\\site-packages\\pandas\\core\\generic.py:3720\u001b[0m, in \u001b[0;36mNDFrame.to_csv\u001b[1;34m(self, path_or_buf, sep, na_rep, float_format, columns, header, index, index_label, mode, encoding, compression, quoting, quotechar, lineterminator, chunksize, date_format, doublequote, escapechar, decimal, errors, storage_options)\u001b[0m\n\u001b[0;32m   3709\u001b[0m df \u001b[38;5;241m=\u001b[39m \u001b[38;5;28mself\u001b[39m \u001b[38;5;28;01mif\u001b[39;00m \u001b[38;5;28misinstance\u001b[39m(\u001b[38;5;28mself\u001b[39m, ABCDataFrame) \u001b[38;5;28;01melse\u001b[39;00m \u001b[38;5;28mself\u001b[39m\u001b[38;5;241m.\u001b[39mto_frame()\n\u001b[0;32m   3711\u001b[0m formatter \u001b[38;5;241m=\u001b[39m DataFrameFormatter(\n\u001b[0;32m   3712\u001b[0m     frame\u001b[38;5;241m=\u001b[39mdf,\n\u001b[0;32m   3713\u001b[0m     header\u001b[38;5;241m=\u001b[39mheader,\n\u001b[1;32m   (...)\u001b[0m\n\u001b[0;32m   3717\u001b[0m     decimal\u001b[38;5;241m=\u001b[39mdecimal,\n\u001b[0;32m   3718\u001b[0m )\n\u001b[1;32m-> 3720\u001b[0m \u001b[38;5;28;01mreturn\u001b[39;00m DataFrameRenderer(formatter)\u001b[38;5;241m.\u001b[39mto_csv(\n\u001b[0;32m   3721\u001b[0m     path_or_buf,\n\u001b[0;32m   3722\u001b[0m     lineterminator\u001b[38;5;241m=\u001b[39mlineterminator,\n\u001b[0;32m   3723\u001b[0m     sep\u001b[38;5;241m=\u001b[39msep,\n\u001b[0;32m   3724\u001b[0m     encoding\u001b[38;5;241m=\u001b[39mencoding,\n\u001b[0;32m   3725\u001b[0m     errors\u001b[38;5;241m=\u001b[39merrors,\n\u001b[0;32m   3726\u001b[0m     compression\u001b[38;5;241m=\u001b[39mcompression,\n\u001b[0;32m   3727\u001b[0m     quoting\u001b[38;5;241m=\u001b[39mquoting,\n\u001b[0;32m   3728\u001b[0m     columns\u001b[38;5;241m=\u001b[39mcolumns,\n\u001b[0;32m   3729\u001b[0m     index_label\u001b[38;5;241m=\u001b[39mindex_label,\n\u001b[0;32m   3730\u001b[0m     mode\u001b[38;5;241m=\u001b[39mmode,\n\u001b[0;32m   3731\u001b[0m     chunksize\u001b[38;5;241m=\u001b[39mchunksize,\n\u001b[0;32m   3732\u001b[0m     quotechar\u001b[38;5;241m=\u001b[39mquotechar,\n\u001b[0;32m   3733\u001b[0m     date_format\u001b[38;5;241m=\u001b[39mdate_format,\n\u001b[0;32m   3734\u001b[0m     doublequote\u001b[38;5;241m=\u001b[39mdoublequote,\n\u001b[0;32m   3735\u001b[0m     escapechar\u001b[38;5;241m=\u001b[39mescapechar,\n\u001b[0;32m   3736\u001b[0m     storage_options\u001b[38;5;241m=\u001b[39mstorage_options,\n\u001b[0;32m   3737\u001b[0m )\n",
      "File \u001b[1;32mc:\\Users\\Daniel.DESKTOP-2H2HP2R\\miniforge3\\envs\\GIS1\\Lib\\site-packages\\pandas\\util\\_decorators.py:211\u001b[0m, in \u001b[0;36mdeprecate_kwarg.<locals>._deprecate_kwarg.<locals>.wrapper\u001b[1;34m(*args, **kwargs)\u001b[0m\n\u001b[0;32m    209\u001b[0m     \u001b[38;5;28;01melse\u001b[39;00m:\n\u001b[0;32m    210\u001b[0m         kwargs[new_arg_name] \u001b[38;5;241m=\u001b[39m new_arg_value\n\u001b[1;32m--> 211\u001b[0m \u001b[38;5;28;01mreturn\u001b[39;00m func(\u001b[38;5;241m*\u001b[39margs, \u001b[38;5;241m*\u001b[39m\u001b[38;5;241m*\u001b[39mkwargs)\n",
      "File \u001b[1;32mc:\\Users\\Daniel.DESKTOP-2H2HP2R\\miniforge3\\envs\\GIS1\\Lib\\site-packages\\pandas\\io\\formats\\format.py:1189\u001b[0m, in \u001b[0;36mDataFrameRenderer.to_csv\u001b[1;34m(self, path_or_buf, encoding, sep, columns, index_label, mode, compression, quoting, quotechar, lineterminator, chunksize, date_format, doublequote, escapechar, errors, storage_options)\u001b[0m\n\u001b[0;32m   1168\u001b[0m     created_buffer \u001b[38;5;241m=\u001b[39m \u001b[38;5;28;01mFalse\u001b[39;00m\n\u001b[0;32m   1170\u001b[0m csv_formatter \u001b[38;5;241m=\u001b[39m CSVFormatter(\n\u001b[0;32m   1171\u001b[0m     path_or_buf\u001b[38;5;241m=\u001b[39mpath_or_buf,\n\u001b[0;32m   1172\u001b[0m     lineterminator\u001b[38;5;241m=\u001b[39mlineterminator,\n\u001b[1;32m   (...)\u001b[0m\n\u001b[0;32m   1187\u001b[0m     formatter\u001b[38;5;241m=\u001b[39m\u001b[38;5;28mself\u001b[39m\u001b[38;5;241m.\u001b[39mfmt,\n\u001b[0;32m   1188\u001b[0m )\n\u001b[1;32m-> 1189\u001b[0m csv_formatter\u001b[38;5;241m.\u001b[39msave()\n\u001b[0;32m   1191\u001b[0m \u001b[38;5;28;01mif\u001b[39;00m created_buffer:\n\u001b[0;32m   1192\u001b[0m     \u001b[38;5;28;01massert\u001b[39;00m \u001b[38;5;28misinstance\u001b[39m(path_or_buf, StringIO)\n",
      "File \u001b[1;32mc:\\Users\\Daniel.DESKTOP-2H2HP2R\\miniforge3\\envs\\GIS1\\Lib\\site-packages\\pandas\\io\\formats\\csvs.py:251\u001b[0m, in \u001b[0;36mCSVFormatter.save\u001b[1;34m(self)\u001b[0m\n\u001b[0;32m    240\u001b[0m \u001b[38;5;66;03m# apply compression and byte/text conversion\u001b[39;00m\n\u001b[0;32m    241\u001b[0m \u001b[38;5;28;01mwith\u001b[39;00m get_handle(\n\u001b[0;32m    242\u001b[0m     \u001b[38;5;28mself\u001b[39m\u001b[38;5;241m.\u001b[39mfilepath_or_buffer,\n\u001b[0;32m    243\u001b[0m     \u001b[38;5;28mself\u001b[39m\u001b[38;5;241m.\u001b[39mmode,\n\u001b[1;32m   (...)\u001b[0m\n\u001b[0;32m    249\u001b[0m \n\u001b[0;32m    250\u001b[0m     \u001b[38;5;66;03m# Note: self.encoding is irrelevant here\u001b[39;00m\n\u001b[1;32m--> 251\u001b[0m     \u001b[38;5;28mself\u001b[39m\u001b[38;5;241m.\u001b[39mwriter \u001b[38;5;241m=\u001b[39m csvlib\u001b[38;5;241m.\u001b[39mwriter(\n\u001b[0;32m    252\u001b[0m         handles\u001b[38;5;241m.\u001b[39mhandle,\n\u001b[0;32m    253\u001b[0m         lineterminator\u001b[38;5;241m=\u001b[39m\u001b[38;5;28mself\u001b[39m\u001b[38;5;241m.\u001b[39mlineterminator,\n\u001b[0;32m    254\u001b[0m         delimiter\u001b[38;5;241m=\u001b[39m\u001b[38;5;28mself\u001b[39m\u001b[38;5;241m.\u001b[39msep,\n\u001b[0;32m    255\u001b[0m         quoting\u001b[38;5;241m=\u001b[39m\u001b[38;5;28mself\u001b[39m\u001b[38;5;241m.\u001b[39mquoting,\n\u001b[0;32m    256\u001b[0m         doublequote\u001b[38;5;241m=\u001b[39m\u001b[38;5;28mself\u001b[39m\u001b[38;5;241m.\u001b[39mdoublequote,\n\u001b[0;32m    257\u001b[0m         escapechar\u001b[38;5;241m=\u001b[39m\u001b[38;5;28mself\u001b[39m\u001b[38;5;241m.\u001b[39mescapechar,\n\u001b[0;32m    258\u001b[0m         quotechar\u001b[38;5;241m=\u001b[39m\u001b[38;5;28mself\u001b[39m\u001b[38;5;241m.\u001b[39mquotechar,\n\u001b[0;32m    259\u001b[0m     )\n\u001b[0;32m    261\u001b[0m     \u001b[38;5;28mself\u001b[39m\u001b[38;5;241m.\u001b[39m_save()\n",
      "\u001b[1;31mTypeError\u001b[0m: quotechar must be set if quoting enabled"
     ]
    }
   ],
   "source": [
    "# Ausschneiden des Ladesaeulenregisters auf die Stadflaeche Hamburgs und nur Schnellladesaeulen\n",
    "\n",
    "# Filter anwenden: Nur Zeilen, in denen das Bundesland \"Hamburg\" ist\n",
    "hamburg_tabelle = ladesaeulenregister[(ladesaeulenregister['Bundesland'] == 'Hamburg') & (ladesaeulenregister['Art der Ladeeinrichtung'] == 'Schnellladeeinrichtung')]\n",
    "\n",
    "# Gefilterte Tabelle speichern\n",
    "hamburg_tabelle.to_csv('hamburg_tabelle.csv', index=False, quoting=csv.QUOTE_NONE)\n",
    "\n",
    "# Gefilterte Tabelle anzeigen (optional)\n",
    "print(hamburg_tabelle)"
   ]
  },
  {
   "cell_type": "code",
   "execution_count": 25,
   "metadata": {},
   "outputs": [
    {
     "name": "stdout",
     "output_type": "stream",
     "text": [
      "count    0.0\n",
      "mean     NaN\n",
      "std      NaN\n",
      "min      NaN\n",
      "25%      NaN\n",
      "50%      NaN\n",
      "75%      NaN\n",
      "max      NaN\n",
      "Name: Breitengrad, dtype: float64\n"
     ]
    }
   ],
   "source": [
    "# Kontrolle\n",
    "print(hamburg_tabelle['Breitengrad'].describe())"
   ]
  },
  {
   "cell_type": "code",
   "execution_count": 20,
   "metadata": {},
   "outputs": [
    {
     "name": "stderr",
     "output_type": "stream",
     "text": [
      "C:\\Users\\Daniel.DESKTOP-2H2HP2R\\AppData\\Local\\Temp\\ipykernel_25124\\550165112.py:3: SettingWithCopyWarning: \n",
      "A value is trying to be set on a copy of a slice from a DataFrame.\n",
      "Try using .loc[row_indexer,col_indexer] = value instead\n",
      "\n",
      "See the caveats in the documentation: https://pandas.pydata.org/pandas-docs/stable/user_guide/indexing.html#returning-a-view-versus-a-copy\n",
      "  hamburg_tabelle['Laengengrad'] = pd.to_numeric(hamburg_tabelle['Laengengrad'], errors='coerce')\n",
      "C:\\Users\\Daniel.DESKTOP-2H2HP2R\\AppData\\Local\\Temp\\ipykernel_25124\\550165112.py:4: SettingWithCopyWarning: \n",
      "A value is trying to be set on a copy of a slice from a DataFrame.\n",
      "Try using .loc[row_indexer,col_indexer] = value instead\n",
      "\n",
      "See the caveats in the documentation: https://pandas.pydata.org/pandas-docs/stable/user_guide/indexing.html#returning-a-view-versus-a-copy\n",
      "  hamburg_tabelle['Breitengrad'] = pd.to_numeric(hamburg_tabelle['Breitengrad'], errors='coerce')\n"
     ]
    }
   ],
   "source": [
    "#hamburg_tabelle = pd.read_csv(directory+'hamburg_tabelle.csv')\n",
    "# Longitude und Latitude in numerische Werte umwandeln\n",
    "hamburg_tabelle['Laengengrad'] = pd.to_numeric(hamburg_tabelle['Laengengrad'], errors='coerce')\n",
    "hamburg_tabelle['Breitengrad'] = pd.to_numeric(hamburg_tabelle['Breitengrad'], errors='coerce')\n",
    "\n",
    "# Ungültige Werte (z.B. NaN) entfernen, falls vorhanden\n",
    "#df = df.dropna(subset=['Longitude', 'Latitude'])"
   ]
  },
  {
   "cell_type": "code",
   "execution_count": 22,
   "metadata": {},
   "outputs": [],
   "source": [
    "\n",
    "# Kartenerstellung der Ladesaeulen und Verkehrsstaerken: https://geopandas.org/en/stable/gallery/plotting_with_folium.html\n",
    "gp_hamburg_tabelle = pd.read_csv(directory+\"hamburg_tabelle.csv\")"
   ]
  },
  {
   "cell_type": "code",
   "execution_count": 23,
   "metadata": {},
   "outputs": [
    {
     "ename": "ValueError",
     "evalue": "could not convert string to float: '10,005717'",
     "output_type": "error",
     "traceback": [
      "\u001b[1;31m---------------------------------------------------------------------------\u001b[0m",
      "\u001b[1;31mValueError\u001b[0m                                Traceback (most recent call last)",
      "Cell \u001b[1;32mIn[23], line 2\u001b[0m\n\u001b[0;32m      1\u001b[0m \u001b[38;5;66;03m# Create point geometries\u001b[39;00m\n\u001b[1;32m----> 2\u001b[0m geometry \u001b[38;5;241m=\u001b[39m gpd\u001b[38;5;241m.\u001b[39mpoints_from_xy(gp_hamburg_tabelle\u001b[38;5;241m.\u001b[39mLaengengrad, gp_hamburg_tabelle\u001b[38;5;241m.\u001b[39mBreitengrad)\n",
      "File \u001b[1;32mc:\\Users\\Daniel.DESKTOP-2H2HP2R\\miniforge3\\envs\\GIS1\\Lib\\site-packages\\geopandas\\array.py:261\u001b[0m, in \u001b[0;36mpoints_from_xy\u001b[1;34m(x, y, z, crs)\u001b[0m\n\u001b[0;32m    218\u001b[0m \u001b[38;5;28;01mdef\u001b[39;00m \u001b[38;5;21mpoints_from_xy\u001b[39m(x, y, z\u001b[38;5;241m=\u001b[39m\u001b[38;5;28;01mNone\u001b[39;00m, crs\u001b[38;5;241m=\u001b[39m\u001b[38;5;28;01mNone\u001b[39;00m):\n\u001b[0;32m    219\u001b[0m \u001b[38;5;250m    \u001b[39m\u001b[38;5;124;03m\"\"\"\u001b[39;00m\n\u001b[0;32m    220\u001b[0m \u001b[38;5;124;03m    Generate GeometryArray of shapely Point geometries from x, y(, z) coordinates.\u001b[39;00m\n\u001b[0;32m    221\u001b[0m \n\u001b[1;32m   (...)\u001b[0m\n\u001b[0;32m    259\u001b[0m \u001b[38;5;124;03m    output : GeometryArray\u001b[39;00m\n\u001b[0;32m    260\u001b[0m \u001b[38;5;124;03m    \"\"\"\u001b[39;00m\n\u001b[1;32m--> 261\u001b[0m     \u001b[38;5;28;01mreturn\u001b[39;00m GeometryArray(vectorized\u001b[38;5;241m.\u001b[39mpoints_from_xy(x, y, z), crs\u001b[38;5;241m=\u001b[39mcrs)\n",
      "File \u001b[1;32mc:\\Users\\Daniel.DESKTOP-2H2HP2R\\miniforge3\\envs\\GIS1\\Lib\\site-packages\\geopandas\\_vectorized.py:256\u001b[0m, in \u001b[0;36mpoints_from_xy\u001b[1;34m(x, y, z)\u001b[0m\n\u001b[0;32m    254\u001b[0m \u001b[38;5;28;01mdef\u001b[39;00m \u001b[38;5;21mpoints_from_xy\u001b[39m(x, y, z\u001b[38;5;241m=\u001b[39m\u001b[38;5;28;01mNone\u001b[39;00m):\n\u001b[1;32m--> 256\u001b[0m     x \u001b[38;5;241m=\u001b[39m np\u001b[38;5;241m.\u001b[39masarray(x, dtype\u001b[38;5;241m=\u001b[39m\u001b[38;5;124m\"\u001b[39m\u001b[38;5;124mfloat64\u001b[39m\u001b[38;5;124m\"\u001b[39m)\n\u001b[0;32m    257\u001b[0m     y \u001b[38;5;241m=\u001b[39m np\u001b[38;5;241m.\u001b[39masarray(y, dtype\u001b[38;5;241m=\u001b[39m\u001b[38;5;124m\"\u001b[39m\u001b[38;5;124mfloat64\u001b[39m\u001b[38;5;124m\"\u001b[39m)\n\u001b[0;32m    258\u001b[0m     \u001b[38;5;28;01mif\u001b[39;00m z \u001b[38;5;129;01mis\u001b[39;00m \u001b[38;5;129;01mnot\u001b[39;00m \u001b[38;5;28;01mNone\u001b[39;00m:\n",
      "File \u001b[1;32mc:\\Users\\Daniel.DESKTOP-2H2HP2R\\miniforge3\\envs\\GIS1\\Lib\\site-packages\\pandas\\core\\series.py:893\u001b[0m, in \u001b[0;36mSeries.__array__\u001b[1;34m(self, dtype)\u001b[0m\n\u001b[0;32m    846\u001b[0m \u001b[38;5;28;01mdef\u001b[39;00m \u001b[38;5;21m__array__\u001b[39m(\u001b[38;5;28mself\u001b[39m, dtype: npt\u001b[38;5;241m.\u001b[39mDTypeLike \u001b[38;5;241m|\u001b[39m \u001b[38;5;28;01mNone\u001b[39;00m \u001b[38;5;241m=\u001b[39m \u001b[38;5;28;01mNone\u001b[39;00m) \u001b[38;5;241m-\u001b[39m\u001b[38;5;241m>\u001b[39m np\u001b[38;5;241m.\u001b[39mndarray:\n\u001b[0;32m    847\u001b[0m \u001b[38;5;250m    \u001b[39m\u001b[38;5;124;03m\"\"\"\u001b[39;00m\n\u001b[0;32m    848\u001b[0m \u001b[38;5;124;03m    Return the values as a NumPy array.\u001b[39;00m\n\u001b[0;32m    849\u001b[0m \n\u001b[1;32m   (...)\u001b[0m\n\u001b[0;32m    891\u001b[0m \u001b[38;5;124;03m          dtype='datetime64[ns]')\u001b[39;00m\n\u001b[0;32m    892\u001b[0m \u001b[38;5;124;03m    \"\"\"\u001b[39;00m\n\u001b[1;32m--> 893\u001b[0m     \u001b[38;5;28;01mreturn\u001b[39;00m np\u001b[38;5;241m.\u001b[39masarray(\u001b[38;5;28mself\u001b[39m\u001b[38;5;241m.\u001b[39m_values, dtype)\n",
      "\u001b[1;31mValueError\u001b[0m: could not convert string to float: '10,005717'"
     ]
    }
   ],
   "source": [
    "# Create point geometries\n",
    "geometry = gpd.points_from_xy(gp_hamburg_tabelle.Laengengrad, gp_hamburg_tabelle.Breitengrad)\n",
    "\n",
    "#geo_df = gpd.GeoDataFrame(\n",
    "#    df[[\"Year\", \"Name\", \"Country\", \"Latitude\", \"Longitude\", \"Type\"]], geometry=geometry\n",
    "\n",
    "#)\n",
    "\n",
    "#geo_df.head()"
   ]
  }
 ],
 "metadata": {
  "kernelspec": {
   "display_name": "GIS1",
   "language": "python",
   "name": "python3"
  },
  "language_info": {
   "codemirror_mode": {
    "name": "ipython",
    "version": 3
   },
   "file_extension": ".py",
   "mimetype": "text/x-python",
   "name": "python",
   "nbconvert_exporter": "python",
   "pygments_lexer": "ipython3",
   "version": "3.11.5"
  }
 },
 "nbformat": 4,
 "nbformat_minor": 2
}
