{
 "cells": [
  {
   "cell_type": "code",
   "execution_count": 1,
   "metadata": {},
   "outputs": [],
   "source": [
    "# conda install anaconda::openpyxl\n",
    "\n",
    "import numpy as np\n",
    "import geopandas as gpd\n",
    "import pandas as pd\n",
    "import matplotlib.pyplot as plt"
   ]
  },
  {
   "cell_type": "code",
   "execution_count": 2,
   "metadata": {},
   "outputs": [],
   "source": [
    "directory = \"C:/Users/Daniel.DESKTOP-2H2HP2R/repos/hamburg_echarging/\""
   ]
  },
  {
   "cell_type": "code",
   "execution_count": 3,
   "metadata": {},
   "outputs": [],
   "source": [
    "# Funktion zur Uwandlung von xlsx in csv\n",
    "def convert_xls_to_csv(input_file, output_file, sheet_name=0):\n",
    "    \n",
    "    try:\n",
    "        data = pd.read_excel(input_file, sheet_name=sheet_name)\n",
    "        data.to_csv(output_file, index=False)\n",
    "        print(f\"Erfolgreich konvertiert: {input_file} -> {output_file}\")\n",
    "    except Exception as e:\n",
    "        print(f\"Fehler: {e}\")"
   ]
  },
  {
   "cell_type": "code",
   "execution_count": 6,
   "metadata": {},
   "outputs": [
    {
     "name": "stdout",
     "output_type": "stream",
     "text": [
      "Erfolgreich konvertiert: dtv-dtvw-2004-2023-download-data.xlsx -> dtv-dtvw-2004-2023-download-data.csv\n"
     ]
    }
   ],
   "source": [
    "# Dateien\n",
    "input_file = \"dtv-dtvw-2004-2023-download-data.xlsx\"\n",
    "output_file = \"dtv-dtvw-2004-2023-download-data.csv\"\n",
    "\n",
    "# Ausführen der Funktion\n",
    "convert_xls_to_csv(input_file, output_file)"
   ]
  },
  {
   "cell_type": "code",
   "execution_count": 14,
   "metadata": {},
   "outputs": [
    {
     "name": "stderr",
     "output_type": "stream",
     "text": [
      "C:\\Users\\Daniel.DESKTOP-2H2HP2R\\AppData\\Local\\Temp\\ipykernel_5784\\3649124898.py:2: DtypeWarning: Columns (29,32) have mixed types. Specify dtype option on import or set low_memory=False.\n",
      "  ladesaeulenregister = pd.read_csv(directory +'Ladesaeulenregister_01122024.csv', header = 0, encoding= 'unicode_escape', delimiter= ';')\n"
     ]
    }
   ],
   "source": [
    "# Einladen des deutschlandweiten Ladesäulenregisters und der Hamburger Verkehrsstärke\n",
    "ladesaeulenregister = pd.read_csv(directory +'Ladesaeulenregister_01122024.csv', header = 0, encoding= 'unicode_escape', delimiter= ';')\n",
    "verkehrsstaerke = pd.read_csv(directory +'dtv-dtvw-2004-2023-download-data.csv', header = 0, encoding= 'unicode_escape', delimiter= ',')\n"
   ]
  },
  {
   "cell_type": "code",
   "execution_count": 17,
   "metadata": {},
   "outputs": [
    {
     "name": "stdout",
     "output_type": "stream",
     "text": [
      "count    1428.000000\n",
      "mean     2924.792717\n",
      "std       901.720521\n",
      "min      1013.000000\n",
      "25%      2392.000000\n",
      "50%      2934.000000\n",
      "75%      3556.000000\n",
      "max      7621.000000\n",
      "Name: Zaehlstelle, dtype: float64\n",
      "count                            80723\n",
      "unique                           10849\n",
      "top       EnBW mobility+ AG und Co.KG \n",
      "freq                              3972\n",
      "Name: Betreiber, dtype: object\n"
     ]
    }
   ],
   "source": [
    "# Informationenabfrag\n",
    "print(verkehrsstaerke['Zaehlstelle'].describe())\n",
    "print(ladesaeulenregister['Betreiber'].describe())"
   ]
  },
  {
   "cell_type": "code",
   "execution_count": 18,
   "metadata": {},
   "outputs": [],
   "source": [
    "#Einladen Zaehlstellen CSV-Dateien\n",
    "bedarfszaehlstellen = pd.read_csv(directory +'verkehrszaehlstellen_csv/app_kfz_bedarfszaehlstellen_EPSG_25832.csv', header = 0, encoding= 'unicode_escape', delimiter= ';')\n",
    "dauerzaehlstellen = pd.read_csv(directory +'verkehrszaehlstellen_csv/app_kfz_dauerzaehlstellen_EPSG_25832.csv', header = 0, encoding= 'unicode_escape', delimiter= ';')\n",
    "jahreszaehlstellen = pd.read_csv(directory +'verkehrszaehlstellen_csv/app_kfz_jaehrliche_zaehlstellen_EPSG_25832.csv', header = 0, encoding= 'unicode_escape', delimiter= ';')\n",
    "pegel = pd.read_csv(directory +'verkehrszaehlstellen_csv/app_kfz_pegel_EPSG_25832.csv', header = 0, encoding= 'unicode_escape', delimiter= ';')"
   ]
  },
  {
   "cell_type": "code",
   "execution_count": 21,
   "metadata": {},
   "outputs": [
    {
     "name": "stdout",
     "output_type": "stream",
     "text": [
      "                                 ï»¿_fid  zaehlstelle  \\\n",
      "0     APP_KFZ_BEDARFSZAEHLSTELLEN_163670            2   \n",
      "1     APP_KFZ_BEDARFSZAEHLSTELLEN_163671            3   \n",
      "2     APP_KFZ_BEDARFSZAEHLSTELLEN_163672            5   \n",
      "3     APP_KFZ_BEDARFSZAEHLSTELLEN_163673            6   \n",
      "4     APP_KFZ_BEDARFSZAEHLSTELLEN_163674            7   \n",
      "...                                  ...          ...   \n",
      "2364                 APP_KFZ_PEGEL_37376         4088   \n",
      "2365                 APP_KFZ_PEGEL_37377         4092   \n",
      "2366                 APP_KFZ_PEGEL_37378         4094   \n",
      "2367                 APP_KFZ_PEGEL_37379         4098   \n",
      "2368                 APP_KFZ_PEGEL_37380         4102   \n",
      "\n",
      "                                   bezeichnung  knoten letzte_zaehlung  \\\n",
      "0        Osdorfer LandstraÃe / WindmÃ¼hlenweg     NaN      01.01.2023   \n",
      "1                Neue StraÃe / Harburger Ring     NaN      01.01.2023   \n",
      "2     Elise-Averdieck-StraÃe / Oben Borgfelde     NaN      01.01.2024   \n",
      "3          Oberhafenradweg / Brandshofer Deich     NaN      01.01.2024   \n",
      "4         Gert-SchwÃ¤mmle-Weg / DratelnstraÃe     NaN      01.01.2024   \n",
      "...                                        ...     ...             ...   \n",
      "2364        Am Sandtorkai W Bei St. Annen T406     NaN      04.01.2016   \n",
      "2365           Osakaallee N Ãberseeallee T407     NaN      08.10.2015   \n",
      "2366           Ãberseeallee O Osakaallee T408     NaN      08.10.2015   \n",
      "2367           Ãberseeallee W Osakaallee T409     NaN      08.10.2015   \n",
      "2368        Shanghaiallee N Ãberseeallee T410     NaN      24.09.2020   \n",
      "\n",
      "                                      geom coordinate_reference_system  \n",
      "0     POINT (557567.000000 5936156.000000)                  EPSG:25832  \n",
      "1     POINT (564964.000000 5923997.000000)                  EPSG:25832  \n",
      "2     POINT (568753.000000 5934575.000000)                  EPSG:25832  \n",
      "3     POINT (568203.000000 5932455.000000)                  EPSG:25832  \n",
      "4     POINT (566319.000000 5928286.000000)                  EPSG:25832  \n",
      "...                                    ...                         ...  \n",
      "2364  POINT (566091.000000 5933253.000000)                  EPSG:25832  \n",
      "2365  POINT (566240.000000 5932971.000000)                  EPSG:25832  \n",
      "2366  POINT (566274.000000 5932938.000000)                  EPSG:25832  \n",
      "2367  POINT (566219.000000 5932947.000000)                  EPSG:25832  \n",
      "2368  POINT (566517.000000 5932932.000000)                  EPSG:25832  \n",
      "\n",
      "[2369 rows x 7 columns]\n"
     ]
    }
   ],
   "source": [
    "#Zusammenführen der CSV-Dateien\n",
    "zaehlstellen_all = pd.concat([bedarfszaehlstellen, dauerzaehlstellen, jahreszaehlstellen, pegel], axis=0, ignore_index=True)\n",
    "print(zaehlstellen_all)\n",
    "zaehlstellen_all.to_csv(\"C:/Users/Daniel.DESKTOP-2H2HP2R/repos/hamburg_echarging/zaehlstellen_all.csv\", index = False)"
   ]
  },
  {
   "cell_type": "code",
   "execution_count": null,
   "metadata": {},
   "outputs": [],
   "source": [
    "# Zusammenfuehrung der georeferenzierten Zaehlstellen(zaehlstellen_all.csv) mit den Zaehlstaerken(dtv-dtvw-2004-2023-download-data.csv)\n",
    "georef_verkehr = verkehrsstaerke.merge(\n",
    "    zaehlstellen_all[['zaehlstelle', 'geom', 'coordinate_reference_system']],\n",
    "    on='zaehlstelle',\n",
    "    how='left'  # \"left\" sorgt dafür, dass alle Zeilen aus verkehrsstaerke erhalten bleiben\n",
    ")\n",
    "\n",
    "# Ergebnis speichern\n",
    "georef_verkehr.to_csv('georef_verkehr.csv', index=False)\n",
    "\n",
    "# Ergebnis anzeigen (optional)\n",
    "print(georef_verkehr)"
   ]
  },
  {
   "cell_type": "code",
   "execution_count": null,
   "metadata": {},
   "outputs": [],
   "source": [
    "# Ausschneiden des Ladesaeulenregisters auf die Stadflaeche Hamburgs\n"
   ]
  }
 ],
 "metadata": {
  "kernelspec": {
   "display_name": "GIS1",
   "language": "python",
   "name": "python3"
  },
  "language_info": {
   "codemirror_mode": {
    "name": "ipython",
    "version": 3
   },
   "file_extension": ".py",
   "mimetype": "text/x-python",
   "name": "python",
   "nbconvert_exporter": "python",
   "pygments_lexer": "ipython3",
   "version": "3.11.5"
  }
 },
 "nbformat": 4,
 "nbformat_minor": 2
}
